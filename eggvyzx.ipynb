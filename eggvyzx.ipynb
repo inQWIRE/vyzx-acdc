{
 "cells": [
  {
   "cell_type": "code",
   "execution_count": 341,
   "metadata": {},
   "outputs": [],
   "source": [
    "from egglog import *\n",
    "from egglog.egraph import ActionLike, FactLike\n",
    "from egglog.bindings import Eq\n",
    "from __future__ import annotations\n"
   ]
  },
  {
   "cell_type": "code",
   "execution_count": 342,
   "metadata": {},
   "outputs": [],
   "source": [
    "debug = True\n",
    "proof_tree = True\n",
    "dim_errors = True"
   ]
  },
  {
   "cell_type": "markdown",
   "metadata": {},
   "source": []
  },
  {
   "cell_type": "code",
   "execution_count": 343,
   "metadata": {},
   "outputs": [],
   "source": [
    "egraph = EGraph(save_egglog_string=debug)"
   ]
  },
  {
   "cell_type": "code",
   "execution_count": 344,
   "metadata": {},
   "outputs": [],
   "source": [
    "class Dim(Expr):\n",
    "    @classmethod\n",
    "    def lit(cls, value: i64Like) -> Dim: ...\n",
    "\n",
    "    @classmethod\n",
    "    def var(cls, name: StringLike) -> Dim:  ...\n",
    "\n",
    "    def __add__(self, other: Dim) -> Dim: ...\n",
    "\n",
    "    def __mul__(self, other: Dim) -> Dim: ... \n",
    "    \n",
    "  \n",
    "if proof_tree:\n",
    "  class DimProof(Expr):\n",
    "    @classmethod\n",
    "    def refl(cls, dim : Dim) -> DimProof:\n",
    "      ...\n",
    "    \n",
    "    def trans(self, dim : Dim, name : StringLike) -> DimProof:\n",
    "      ...\n",
    "      \n",
    "    @classmethod\n",
    "    def join(cls, dim : Dim, prfl : DimProof, prfr : DimProof) -> DimProof:\n",
    "      ..."
   ]
  },
  {
   "cell_type": "code",
   "execution_count": 345,
   "metadata": {},
   "outputs": [],
   "source": [
    "\n",
    "egraph_consts : dict[int, any] = dict()\n",
    "\n",
    "def register_const(const : int):\n",
    "  if const in egraph_consts:\n",
    "    return egraph_consts[const]\n",
    "  name = f\"___________int_const__{const}\"\n",
    "  egraph.let(name, Dim.lit(const))\n",
    "  val = var(name, Dim)\n",
    "  egraph_consts[const] = val\n",
    "  return val"
   ]
  },
  {
   "cell_type": "code",
   "execution_count": 346,
   "metadata": {},
   "outputs": [],
   "source": [
    "class ZX(Expr):\n",
    "    @classmethod\n",
    "    def symbol(cls, symbol : StringLike, n : Dim, m : Dim) -> ZX:\n",
    "      ...\n",
    "    \n",
    "    def cast(self, n : Dim, m : Dim) -> ZX:\n",
    "      ...\n",
    "    \n",
    "    def compose(self, other : ZX) -> ZX:\n",
    "      ...\n",
    "      \n",
    "    def stack(self, other : ZX) -> ZX:\n",
    "      ...\n",
    "      \n",
    "    @classmethod\n",
    "    def Z(cls, n : Dim, m : Dim, alpha : Dim) -> ZX:\n",
    "      ...\n",
    "      \n",
    "    @classmethod\n",
    "    def X(cls, n : Dim, m : Dim, alpha : Dim) -> ZX:\n",
    "      ...\n",
    "     \n",
    "    # TODO\n",
    "    # def nStack(self, n : Dim) -> ZX:\n",
    "    #   ...\n",
    "      \n",
    "    def nStack1(self, n : Dim) -> ZX:\n",
    "      ...\n",
    "    \n",
    "    @classmethod\n",
    "    def nWire(cls, n: Dim) -> ZX:\n",
    "      ...\n",
    "      \n",
    "    @property\n",
    "    def n(self) -> Dim:\n",
    "      ...\n",
    "      \n",
    "    @property\n",
    "    def m(self) -> Dim:\n",
    "      ...\n",
    "\n",
    "if proof_tree:   \n",
    "  class ZXProof(Expr):\n",
    "    @classmethod\n",
    "    def refl(cls, zx : ZX) -> ZXProof:\n",
    "      ...\n",
    "    \n",
    "    def trans(self, zx : ZX, name : StringLike) -> ZXProof:\n",
    "      ...\n",
    "      \n",
    "    @classmethod\n",
    "    def join(cls, zx : ZX, prfl : ZXProof, prfr : ZXProof) -> ZXProof:\n",
    "      ...\n",
    "    \n",
    "    @classmethod\n",
    "    def dim_proof(cls, prfn : DimProof, prfm : DimProof) -> ZXProof:\n",
    "      ...\n",
    "    \n"
   ]
  },
  {
   "cell_type": "code",
   "execution_count": 347,
   "metadata": {},
   "outputs": [],
   "source": [
    "if proof_tree:\n",
    "  dim_edge = relation('dim_edge', Dim, Dim, StringLike)\n",
    "  zx_edge = relation('zx_edge', ZX, ZX, StringLike)\n",
    "  dim_path = relation('dim_path', Dim, Dim, DimProof, i64)\n",
    "  zx_path = relation('zx_path', ZX, ZX, ZXProof, i64)\n",
    "  goals = relation('goals', ZX, ZX)\n",
    "  "
   ]
  },
  {
   "cell_type": "code",
   "execution_count": 348,
   "metadata": {},
   "outputs": [],
   "source": [
    "def build_dim_rule(match : any, to : any, name : str, *conditions : FactLike):\n",
    "  if proof_tree:\n",
    "    x = var('tobematched', Dim)\n",
    "    conds = (eq(x).to(match),) + conditions\n",
    "    return rule(*conds).then(dim_edge(match, to, name))\n",
    "  else:\n",
    "    condto = (to,) + conditions\n",
    "    return rewrite(match).to(*condto)"
   ]
  },
  {
   "cell_type": "code",
   "execution_count": 349,
   "metadata": {},
   "outputs": [],
   "source": [
    "@egraph.register\n",
    "def dim_rules():\n",
    "  a = var('a', Dim)\n",
    "  i1 = var('i1', i64)\n",
    "  i2 = var('i2', i64)\n",
    "  yield build_dim_rule(Dim.lit(0) + a, a, 'simpl#add_0_l')\n",
    "  yield build_dim_rule(Dim.lit(i1) + Dim.lit(i2), Dim.lit(i1 + i2), 'simpl#c-fold')"
   ]
  },
  {
   "cell_type": "code",
   "execution_count": 350,
   "metadata": {},
   "outputs": [],
   "source": [
    "@egraph.register\n",
    "def zx_fn_rules():\n",
    "  a, b, x = vars_(\"a b x\", ZX)\n",
    "  s = var(\"s\", String)\n",
    "  n, m, alpha = vars_(\"n m alpha\", Dim)\n",
    "  one = register_const(1)\n",
    "  constructors = [\n",
    "    (a.cast(n, m), n, m, []),\n",
    "    (a.compose(b), a.n, b.m, [eq(a.m).to(b.n)]),\n",
    "    (a.stack(b), a.n + b.n, a.m + b.m, []),\n",
    "    (ZX.Z(n, m, alpha), n, m, []),\n",
    "    (ZX.X(n, m, alpha), n, m, []),\n",
    "    (ZX.symbol(n=n, m=m, symbol=s), n, m, []),\n",
    "    (a.nStack1(n), n, n, [eq(a.n).to(one), eq(a.m).to(one)]),\n",
    "    (ZX.nWire(n), n, n, []),\n",
    "  ]\n",
    "  for constr in constructors:\n",
    "    # force n and m to be calculated\n",
    "    yield rule(eq(x).to(constr[0])).then(x.n, x.m)\n",
    "    conds = tuple(constr[3])\n",
    "    # define n\n",
    "    yield rewrite(constr[0].n).to(constr[1], *conds)\n",
    "    # define m\n",
    "    yield rewrite(constr[0].m).to(constr[2], *conds)"
   ]
  },
  {
   "cell_type": "code",
   "execution_count": 351,
   "metadata": {},
   "outputs": [],
   "source": [
    "if dim_errors:\n",
    "  dim_err = relation('dim_err', ZX)\n",
    "  @egraph.register\n",
    "  def dim_err_rule():\n",
    "    a, b, x = vars_(\"a b x\", ZX)\n",
    "    yield rule(eq(x).to(a.compose(b)), ne(a.m).to(b.n)).then(dim_err(a.compose(b)))"
   ]
  },
  {
   "cell_type": "code",
   "execution_count": 352,
   "metadata": {},
   "outputs": [],
   "source": [
    "if proof_tree:\n",
    "  def proof_rules(edge, path, Type, ProofType):\n",
    "    x, y, z = vars_(\"x y z\", Type)\n",
    "    s = var(\"s\", String)\n",
    "    p = var(\"p\", ProofType)\n",
    "    d = var(\"d\", i64)\n",
    "    return [rule(edge(x,y,s)).then(path(x, y, ProofType.refl(y).trans(x, s), 1)),\n",
    "     rule(edge(x, y, s), path(y, z, p, d)).then(path(x, z, p.trans(x, s), 1 + d))]\n",
    "  \n",
    "  def rule_for_bin_op(binop, path, Type, ProofType):\n",
    "    a, x1, x2, y1, y2 = vars_(\"a x1 x2 y1 y2\", Type)\n",
    "    p1, p2 = vars_(\"p1 p2\", ProofType)\n",
    "    d1, d2 = vars_(\"d1 d2\", i64)\n",
    "    base_eq = eq(a).to(binop(x1, x2))\n",
    "    path1 = path(x1, y1, p1, d1)\n",
    "    path2 = path(x2, y2, p2, d2)\n",
    "    return [\n",
    "      rule(base_eq, path1, path2) \\\n",
    "        .then(path(a, binop(y2, y2), ProofType.join(a, p1, p2), (1 + (d1 + d2)))),\n",
    "      rule(base_eq, path1) \\\n",
    "        .then(path(a, binop(y1, x2), ProofType.join(a, p1, ProofType.refl(x2)), 1 + d1)),\n",
    "      rule(base_eq, path2) \\\n",
    "        .then(path(a, binop(x1, y2), ProofType.join(a, ProofType.refl(x1), p2), 1 + d2)),\n",
    "    ]\n",
    "  \n",
    "  @egraph.register\n",
    "  def dim_proof_rules():\n",
    "    for rule in proof_rules(dim_edge, dim_path, Dim, DimProof):\n",
    "      yield rule\n",
    "  \n",
    "  @egraph.register\n",
    "  def zx_proof_rules():\n",
    "    for rule in proof_rules(zx_edge, zx_path, ZX, ZXProof):\n",
    "      yield rule\n",
    "\n",
    "  @egraph.register\n",
    "  def dim_binop_rules():\n",
    "    for rule in rule_for_bin_op(lambda x, y  : x + y, dim_path, Dim, DimProof):\n",
    "      yield rule\n",
    "      \n",
    "  @egraph.register\n",
    "  def zx_binop_rules():\n",
    "    binops = [lambda x, y  : x.stack(y), lambda x, y  : x.compose(y)]\n",
    "    for op in binops:\n",
    "      for rule in rule_for_bin_op(op, zx_path, ZX, ZXProof):\n",
    "        yield rule\n",
    "    "
   ]
  },
  {
   "cell_type": "code",
   "execution_count": 353,
   "metadata": {},
   "outputs": [],
   "source": [
    "with open('zxgen.egg', 'w') as f:\n",
    " f.write(egraph.as_egglog_string if debug else \"Only on debug\")"
   ]
  }
 ],
 "metadata": {
  "kernelspec": {
   "display_name": ".venv",
   "language": "python",
   "name": "python3"
  },
  "language_info": {
   "codemirror_mode": {
    "name": "ipython",
    "version": 3
   },
   "file_extension": ".py",
   "mimetype": "text/x-python",
   "name": "python",
   "nbconvert_exporter": "python",
   "pygments_lexer": "ipython3",
   "version": "3.12.2"
  }
 },
 "nbformat": 4,
 "nbformat_minor": 2
}
