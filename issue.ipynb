{
 "cells": [
  {
   "cell_type": "code",
   "execution_count": 1,
   "metadata": {},
   "outputs": [],
   "source": [
    "from egglog import *\n",
    "from __future__ import annotations"
   ]
  },
  {
   "cell_type": "code",
   "execution_count": 2,
   "metadata": {},
   "outputs": [],
   "source": [
    "egraph = EGraph(save_egglog_string=True)"
   ]
  },
  {
   "cell_type": "code",
   "execution_count": 3,
   "metadata": {},
   "outputs": [],
   "source": [
    "class Dim(Expr):\n",
    "    @classmethod\n",
    "    def lit(cls, value: i64Like) -> Dim: ...\n",
    "\n",
    "    @classmethod\n",
    "    def var(cls, name: StringLike) -> Dim:  ...\n",
    "\n",
    "    def __add__(self, other: Dim) -> Dim: ...\n",
    "\n",
    "    def __mul__(self, other: Dim) -> Dim: ... \n",
    "\n",
    "    \n",
    "  \n",
    "class DimProof(Expr):\n",
    "  @classmethod\n",
    "  def refl(cls, dim : Dim) -> DimProof:\n",
    "    ...\n",
    "  \n",
    "  def trans(self, dim : Dim, name : StringLike) -> DimProof:\n",
    "    ...\n",
    "    \n",
    "  @classmethod\n",
    "  def join(cls, dim : Dim, prfl : DimProof, prfr : DimProof) -> DimProof:\n",
    "    ..."
   ]
  },
  {
   "cell_type": "code",
   "execution_count": 4,
   "metadata": {},
   "outputs": [],
   "source": [
    "  @function\n",
    "  def dim_edge(dim1 : Dim, dim2 : Dim) -> StringLike:\n",
    "    ...\n",
    "  @function(unextractable=True)\n",
    "  def dim_path(dim1 : Dim, dim2 : Dim) -> DimProof:\n",
    "    ..."
   ]
  },
  {
   "cell_type": "code",
   "execution_count": 5,
   "metadata": {},
   "outputs": [
    {
     "name": "stdout",
     "output_type": "stream",
     "text": [
      "(rule ((= s (dim_edge x y)))\n",
      "      ((set (dim_path x y) (DimProof_trans (DimProof_refl y) x s)))\n",
      "         )\n"
     ]
    }
   ],
   "source": [
    "@egraph.register\n",
    "def test():\n",
    "  x, y, = vars_(\"x y\", Dim)\n",
    "  s = var(\"s\", String)\n",
    "  p = var(\"p\", DimProof)\n",
    "  print(rule(eq(s).to(dim_edge(x,y))) \\\n",
    "        .then(set_(dim_path(x, y)).to(DimProof.refl(y).trans(x, s)))._to_egg_command(''))\n",
    "  yield rule(eq(s).to(dim_edge(x,y))) \\\n",
    "        .then(set_(dim_path(x, y)).to(DimProof.refl(y).trans(x, s)))"
   ]
  },
  {
   "cell_type": "code",
   "execution_count": null,
   "metadata": {},
   "outputs": [],
   "source": []
  }
 ],
 "metadata": {
  "kernelspec": {
   "display_name": ".venv",
   "language": "python",
   "name": "python3"
  },
  "language_info": {
   "codemirror_mode": {
    "name": "ipython",
    "version": 3
   },
   "file_extension": ".py",
   "mimetype": "text/x-python",
   "name": "python",
   "nbconvert_exporter": "python",
   "pygments_lexer": "ipython3",
   "version": "3.12.2"
  }
 },
 "nbformat": 4,
 "nbformat_minor": 2
}
